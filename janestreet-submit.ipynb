{
 "cells": [
  {
   "cell_type": "code",
   "execution_count": 1,
   "metadata": {
    "_cell_guid": "b1076dfc-b9ad-4769-8c92-a6c4dae69d19",
    "_uuid": "8f2839f25d086af736a60e9eeb907d3b93b6e0e5",
    "execution": {
     "iopub.execute_input": "2021-02-13T04:13:43.434631Z",
     "iopub.status.busy": "2021-02-13T04:13:43.433916Z",
     "iopub.status.idle": "2021-02-13T04:13:49.280944Z",
     "shell.execute_reply": "2021-02-13T04:13:49.280347Z"
    },
    "papermill": {
     "duration": 5.857963,
     "end_time": "2021-02-13T04:13:49.281069",
     "exception": false,
     "start_time": "2021-02-13T04:13:43.423106",
     "status": "completed"
    },
    "tags": []
   },
   "outputs": [],
   "source": [
    "import numpy as np\n",
    "import pandas as pd\n",
    "import pickle\n",
    "import janestreet\n",
    "\n",
    "from time import time\n",
    "\n",
    "from multiprocessing.pool import ThreadPool\n",
    "from tensorflow.keras.models import load_model"
   ]
  },
  {
   "cell_type": "code",
   "execution_count": 2,
   "metadata": {
    "execution": {
     "iopub.execute_input": "2021-02-13T04:13:49.294169Z",
     "iopub.status.busy": "2021-02-13T04:13:49.293504Z",
     "iopub.status.idle": "2021-02-13T04:13:50.948762Z",
     "shell.execute_reply": "2021-02-13T04:13:50.948115Z"
    },
    "papermill": {
     "duration": 1.663094,
     "end_time": "2021-02-13T04:13:50.948912",
     "exception": false,
     "start_time": "2021-02-13T04:13:49.285818",
     "status": "completed"
    },
    "tags": []
   },
   "outputs": [],
   "source": [
    "generation = 19\n",
    "member = 5\n",
    "\n",
    "f_mean = pickle.load(open('../input/last-{}-{}/fmean_{}.pkl'.format(generation,member,member),'rb'))\n",
    "model = load_model('../input/last-{}-{}/model_{}.h5'.format(generation,member,member))\n",
    "scalers = pickle.load(open('../input/last-{}-{}/scalers_{}.pkl'.format(generation,member,member),'rb'))\n",
    "f_notused = pickle.load(open('../input/last-{}-{}/fnotused_{}.pkl'.format(generation,member,member),'rb'))\n",
    "description = pickle.load(open('../input/last-{}-{}/description_{}.pkl'.format(generation,member,member),'rb'))"
   ]
  },
  {
   "cell_type": "code",
   "execution_count": 3,
   "metadata": {
    "_cell_guid": "79c7e3d0-c299-4dcb-8224-4455121ee9b0",
    "_uuid": "d629ff2d2480ee46fbb7e2d37f6b5fab8052498a",
    "execution": {
     "iopub.execute_input": "2021-02-13T04:13:50.963740Z",
     "iopub.status.busy": "2021-02-13T04:13:50.963045Z",
     "iopub.status.idle": "2021-02-13T04:13:50.967882Z",
     "shell.execute_reply": "2021-02-13T04:13:50.968687Z"
    },
    "papermill": {
     "duration": 0.01483,
     "end_time": "2021-02-13T04:13:50.968891",
     "exception": false,
     "start_time": "2021-02-13T04:13:50.954061",
     "status": "completed"
    },
    "tags": []
   },
   "outputs": [
    {
     "name": "stdout",
     "output_type": "stream",
     "text": [
      "Train size: 1\n",
      "\n",
      "Lower limit for earning: 0\n",
      "\n",
      "Number of hiden layers: 19\n",
      "\n",
      "Activation on input layer: elu\n",
      "\n",
      "Number of neurons on input layer: 191\n",
      "\n",
      "Activation on output layer: linear\n",
      "\n",
      "Number of neurons on hidden layers: [ 80  92  77 217 219 199  61  83 189 122 241  31  21 190 232  13 110 103\n",
      " 131]\n",
      "\n",
      "Activation on hidden layers: ['elu' 'selu' 'softmax' '0' 'elu' 'softplus' 'relu' 'elu' 'elu'\n",
      " 'hard_sigmoid' 'exponential' 'selu' 'linear' 'elu' 'relu' 'linear'\n",
      " 'linear' 'relu' 'elu']\n",
      "\n",
      "Features used: [  1   3   4   5   6   7   8  10  13  17  18  19  21  22  25  26  27  29\n",
      "  30  32  33  34  35  38  39  40  43  44  47  49  50  51  52  53  58  59\n",
      "  61  62  63  64  65  68  70  71  73  74  75  77  79  82  83  84  85  87\n",
      "  89  91  92  93  94  95  97  98  99 100 104 105 109 111 113 116 117 120\n",
      " 121 122 127 128 129]\n",
      "\n",
      "Scalers of the features: [StandardScaler(with_mean=False, with_std=False), QuantileTransformer(output_distribution='normal', random_state=5), StandardScaler(), PowerTransformer(standardize=False), StandardScaler(with_std=False), RobustScaler(), StandardScaler(with_mean=False, with_std=False), StandardScaler(with_std=False), MaxAbsScaler(), RobustScaler(with_centering=False), PowerTransformer(standardize=False), 'passthrough', RobustScaler(with_centering=False, with_scaling=False), StandardScaler(with_mean=False, with_std=False), StandardScaler(with_mean=False), MaxAbsScaler(), StandardScaler(with_std=False), RobustScaler(), RobustScaler(with_centering=False, with_scaling=False), 'passthrough', MinMaxScaler(feature_range=(-1, 1)), StandardScaler(with_mean=False), PowerTransformer(standardize=False), RobustScaler(with_centering=False, with_scaling=False), StandardScaler(with_mean=False), StandardScaler(), 'passthrough', MinMaxScaler(feature_range=(-1, 1)), StandardScaler(), RobustScaler(with_centering=False), StandardScaler(with_mean=False), StandardScaler(with_mean=False, with_std=False), MaxAbsScaler(), StandardScaler(with_mean=False, with_std=False), StandardScaler(with_std=False), QuantileTransformer(output_distribution='normal', random_state=5), MinMaxScaler(), StandardScaler(with_std=False), RobustScaler(with_centering=False), QuantileTransformer(output_distribution='normal', random_state=5), StandardScaler(), PowerTransformer(), StandardScaler(with_mean=False, with_std=False), QuantileTransformer(output_distribution='normal', random_state=5), PowerTransformer(standardize=False), RobustScaler(with_scaling=False), RobustScaler(with_centering=False), PowerTransformer(standardize=False), MinMaxScaler(), RobustScaler(with_centering=False), 'passthrough', RobustScaler(with_centering=False), QuantileTransformer(random_state=5), StandardScaler(with_mean=False, with_std=False), StandardScaler(with_mean=False, with_std=False), QuantileTransformer(output_distribution='normal', random_state=5), StandardScaler(with_std=False), StandardScaler(with_std=False), RobustScaler(with_scaling=False), MaxAbsScaler(), StandardScaler(with_mean=False), PowerTransformer(standardize=False), 'passthrough', StandardScaler(with_mean=False, with_std=False), PowerTransformer(), StandardScaler(with_mean=False), QuantileTransformer(output_distribution='normal', random_state=5), StandardScaler(with_mean=False, with_std=False), RobustScaler(with_centering=False), StandardScaler(with_std=False), RobustScaler(with_scaling=False), PowerTransformer(standardize=False), RobustScaler(with_scaling=False), StandardScaler(), 'passthrough', RobustScaler(with_scaling=False), QuantileTransformer(random_state=5)]\n",
      "\n",
      "Loss of the model: mean_squared_error\n",
      "\n",
      "Optimizer of the model: adam\n",
      "\n",
      "Epochs of training: 56\n",
      "\n",
      "Batch size: 6881\n"
     ]
    }
   ],
   "source": [
    "#Model description:\n",
    "\n",
    "print(description)"
   ]
  },
  {
   "cell_type": "code",
   "execution_count": 4,
   "metadata": {
    "execution": {
     "iopub.execute_input": "2021-02-13T04:13:50.995464Z",
     "iopub.status.busy": "2021-02-13T04:13:50.994754Z",
     "iopub.status.idle": "2021-02-13T04:20:18.887348Z",
     "shell.execute_reply": "2021-02-13T04:20:18.886491Z"
    },
    "papermill": {
     "duration": 387.912196,
     "end_time": "2021-02-13T04:20:18.887489",
     "exception": false,
     "start_time": "2021-02-13T04:13:50.975293",
     "status": "completed"
    },
    "tags": []
   },
   "outputs": [],
   "source": [
    "env = janestreet.make_env()\n",
    "iter_test = env.iter_test()\n",
    "f = len(scalers)\n",
    "for (test_df, sample_prediction_df) in iter_test:\n",
    "    test_df = test_df.drop(columns=f_notused)\n",
    "    \n",
    "    if (test_df.weight.all() <= 0):\n",
    "        sample_prediction_df.action = 0\n",
    "        env.predict(sample_prediction_df)\n",
    "    else:\n",
    "        test_df = test_df.drop(columns=['weight']).values\n",
    "            \n",
    "        if(np.isnan(test_df).any()):\n",
    "            test_df = np.nan_to_num(test_df) + np.isnan(test_df) * f_mean\n",
    "        \n",
    "        \n",
    "        for scaler,i in zip(scalers,range(f)):\n",
    "            if (scaler!='passthrough'):\n",
    "                test_df[:,i:i+1] = scaler.transform(test_df[:,i:i+1])\n",
    "        \n",
    "        \n",
    "        sample_prediction_df.action = int(np.median(model(test_df,training=False).numpy()) > 0.5)\n",
    "        env.predict(sample_prediction_df)"
   ]
  }
 ],
 "metadata": {
  "kernelspec": {
   "display_name": "Python 3",
   "language": "python",
   "name": "python3"
  },
  "language_info": {
   "codemirror_mode": {
    "name": "ipython",
    "version": 3
   },
   "file_extension": ".py",
   "mimetype": "text/x-python",
   "name": "python",
   "nbconvert_exporter": "python",
   "pygments_lexer": "ipython3",
   "version": "3.7.6"
  },
  "papermill": {
   "duration": 400.377541,
   "end_time": "2021-02-13T04:20:19.000528",
   "environment_variables": {},
   "exception": null,
   "input_path": "__notebook__.ipynb",
   "output_path": "__notebook__.ipynb",
   "parameters": {},
   "start_time": "2021-02-13T04:13:38.622987",
   "version": "2.1.0"
  }
 },
 "nbformat": 4,
 "nbformat_minor": 4
}
