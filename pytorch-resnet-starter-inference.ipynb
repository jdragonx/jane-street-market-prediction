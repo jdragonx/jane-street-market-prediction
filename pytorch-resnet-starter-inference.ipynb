{
 "cells": [
  {
   "cell_type": "code",
   "execution_count": 1,
   "metadata": {
    "execution": {
     "iopub.execute_input": "2021-02-13T22:04:04.061368Z",
     "iopub.status.busy": "2021-02-13T22:04:04.060694Z",
     "iopub.status.idle": "2021-02-13T22:04:05.266397Z",
     "shell.execute_reply": "2021-02-13T22:04:05.265343Z"
    },
    "papermill": {
     "duration": 1.214673,
     "end_time": "2021-02-13T22:04:05.266554",
     "exception": false,
     "start_time": "2021-02-13T22:04:04.051881",
     "status": "completed"
    },
    "tags": []
   },
   "outputs": [],
   "source": [
    "import pickle\n",
    "import numpy as np\n",
    "import torch\n",
    "import torch.nn as nn\n",
    "import janestreet"
   ]
  },
  {
   "cell_type": "code",
   "execution_count": 2,
   "metadata": {
    "execution": {
     "iopub.execute_input": "2021-02-13T22:04:05.279572Z",
     "iopub.status.busy": "2021-02-13T22:04:05.279000Z",
     "iopub.status.idle": "2021-02-13T22:04:05.988671Z",
     "shell.execute_reply": "2021-02-13T22:04:05.988137Z"
    },
    "papermill": {
     "duration": 0.717798,
     "end_time": "2021-02-13T22:04:05.988777",
     "exception": false,
     "start_time": "2021-02-13T22:04:05.270979",
     "status": "completed"
    },
    "tags": []
   },
   "outputs": [],
   "source": [
    "CACHE_PATH = '../input/pytorch-mix-1'\n",
    "NFOLDS = 5\n",
    "\n",
    "scalers = pickle.load(open('../input/scalers-for-copy/scalers_10_2.pkl','rb'))\n",
    "f_notused = pickle.load(open('../input/scalers-for-copy/fnotused_10_2.pkl','rb'))\n",
    "f_mean = np.load(f'{CACHE_PATH}/f_mean_online.npy')"
   ]
  },
  {
   "cell_type": "code",
   "execution_count": 3,
   "metadata": {
    "execution": {
     "iopub.execute_input": "2021-02-13T22:04:06.005051Z",
     "iopub.status.busy": "2021-02-13T22:04:05.999408Z",
     "iopub.status.idle": "2021-02-13T22:04:06.020792Z",
     "shell.execute_reply": "2021-02-13T22:04:06.020325Z"
    },
    "papermill": {
     "duration": 0.027894,
     "end_time": "2021-02-13T22:04:06.020885",
     "exception": false,
     "start_time": "2021-02-13T22:04:05.992991",
     "status": "completed"
    },
    "tags": []
   },
   "outputs": [],
   "source": [
    "def save_pickle(dic, save_path):\n",
    "    with open(save_path, 'wb') as f:\n",
    "        pickle.dump(dic, f)\n",
    "\n",
    "def load_pickle(load_path):\n",
    "    with open(load_path, 'rb') as f:\n",
    "        message_dict = pickle.load(f)\n",
    "    return message_dict\n",
    "\n",
    "class Model(nn.Module):\n",
    "    def __init__(self):\n",
    "        super(Model, self).__init__()\n",
    "        self.batch_norm0 = nn.BatchNorm1d(len(scalers))\n",
    "        self.dropout0 = nn.Dropout(0.2)\n",
    "\n",
    "        dropout_rate = 0.2\n",
    "        hidden_size = 256\n",
    "        self.dense1 = nn.Linear(len(scalers), hidden_size)\n",
    "        self.batch_norm1 = nn.BatchNorm1d(hidden_size)\n",
    "        self.dropout1 = nn.Dropout(dropout_rate)\n",
    "\n",
    "        self.dense2 = nn.Linear(hidden_size+len(scalers), hidden_size)\n",
    "        self.batch_norm2 = nn.BatchNorm1d(hidden_size)\n",
    "        self.dropout2 = nn.Dropout(dropout_rate)\n",
    "\n",
    "        self.dense3 = nn.Linear(hidden_size+hidden_size, hidden_size)\n",
    "        self.batch_norm3 = nn.BatchNorm1d(hidden_size)\n",
    "        self.dropout3 = nn.Dropout(dropout_rate)\n",
    "\n",
    "        self.dense4 = nn.Linear(hidden_size+hidden_size, hidden_size)\n",
    "        self.batch_norm4 = nn.BatchNorm1d(hidden_size)\n",
    "        self.dropout4 = nn.Dropout(dropout_rate)\n",
    "\n",
    "        self.dense5 = nn.Linear(hidden_size+hidden_size, 5)\n",
    "\n",
    "        self.Relu = nn.ReLU(inplace=True)\n",
    "        self.PReLU = nn.PReLU()\n",
    "        self.LeakyReLU = nn.LeakyReLU(negative_slope=0.01, inplace=True)\n",
    "        self.RReLU = nn.RReLU()\n",
    "\n",
    "    def forward(self, x):\n",
    "        x = self.batch_norm0(x)\n",
    "        x = self.dropout0(x)\n",
    "\n",
    "        x1 = self.dense1(x)\n",
    "        x1 = self.batch_norm1(x1)\n",
    "        x1 = self.LeakyReLU(x1)\n",
    "        x1 = self.dropout1(x1)\n",
    "\n",
    "        x = torch.cat([x, x1], 1)\n",
    "\n",
    "        x2 = self.dense2(x)\n",
    "        x2 = self.batch_norm2(x2)\n",
    "        x2 = self.LeakyReLU(x2)\n",
    "        x2 = self.dropout2(x2)\n",
    "\n",
    "        x = torch.cat([x1, x2], 1)\n",
    "\n",
    "        x3 = self.dense3(x)\n",
    "        x3 = self.batch_norm3(x3)\n",
    "        x3 = self.LeakyReLU(x3)\n",
    "        x3 = self.dropout3(x3)\n",
    "\n",
    "        x = torch.cat([x2, x3], 1)\n",
    "\n",
    "        x4 = self.dense4(x)\n",
    "        x4 = self.batch_norm4(x4)\n",
    "        x4 = self.LeakyReLU(x4)\n",
    "        x4 = self.dropout4(x4)\n",
    "\n",
    "        x = torch.cat([x3, x4], 1)\n",
    "\n",
    "        x = self.dense5(x)\n",
    "\n",
    "        return x"
   ]
  },
  {
   "cell_type": "code",
   "execution_count": 4,
   "metadata": {
    "execution": {
     "iopub.execute_input": "2021-02-13T22:04:06.036311Z",
     "iopub.status.busy": "2021-02-13T22:04:06.035726Z",
     "iopub.status.idle": "2021-02-13T22:04:10.557425Z",
     "shell.execute_reply": "2021-02-13T22:04:10.557909Z"
    },
    "papermill": {
     "duration": 4.53304,
     "end_time": "2021-02-13T22:04:10.558070",
     "exception": false,
     "start_time": "2021-02-13T22:04:06.025030",
     "status": "completed"
    },
    "tags": []
   },
   "outputs": [],
   "source": [
    "device = torch.device(\"cuda:0\")\n",
    "\n",
    "model_list = []\n",
    "tmp = np.zeros(len(scalers))\n",
    "for _fold in range(NFOLDS):\n",
    "    torch.cuda.empty_cache()\n",
    "    model = Model()\n",
    "    model.to(device)\n",
    "    model_weights = f\"{CACHE_PATH}/online_model{_fold}.pth\"\n",
    "    model.load_state_dict(torch.load(model_weights))\n",
    "    model.eval()\n",
    "    model_list.append(model)"
   ]
  },
  {
   "cell_type": "code",
   "execution_count": 5,
   "metadata": {
    "execution": {
     "iopub.execute_input": "2021-02-13T22:04:10.580241Z",
     "iopub.status.busy": "2021-02-13T22:04:10.579678Z",
     "iopub.status.idle": "2021-02-13T22:09:16.372253Z",
     "shell.execute_reply": "2021-02-13T22:09:16.371348Z"
    },
    "papermill": {
     "duration": 305.809459,
     "end_time": "2021-02-13T22:09:16.372365",
     "exception": false,
     "start_time": "2021-02-13T22:04:10.562906",
     "status": "completed"
    },
    "tags": []
   },
   "outputs": [],
   "source": [
    "env = janestreet.make_env()\n",
    "iter_test = env.iter_test()\n",
    "f = len(scalers)\n",
    "for (test_df, sample_prediction_df) in iter_test:\n",
    "    test_df = test_df.drop(columns=f_notused)\n",
    "    \n",
    "    if (test_df.weight.all() <= 0):\n",
    "        sample_prediction_df.action = 0\n",
    "        env.predict(sample_prediction_df)\n",
    "    else:\n",
    "        test_df = test_df.drop(columns=['weight']).values\n",
    "            \n",
    "        if np.isnan(test_df.sum()):\n",
    "            test_df = np.nan_to_num(test_df) + np.isnan(test_df) * f_mean\n",
    "        \n",
    "        \n",
    "        for scaler,i in zip(scalers,range(f)):\n",
    "            if (scaler!='passthrough'):\n",
    "                test_df[:,i:i+1] = scaler.transform(test_df[:,i:i+1])\n",
    "        \n",
    "        pred = np.zeros((1, 5))\n",
    "        for model in model_list:\n",
    "            pred += model(torch.tensor(test_df, dtype=torch.float).to(device)).sigmoid().detach().cpu().numpy() / NFOLDS\n",
    "        pred = np.median(pred)\n",
    "        sample_prediction_df.action = np.where(pred >= 0.5, 1, 0).astype(int)\n",
    "        \n",
    "        env.predict(sample_prediction_df)"
   ]
  }
 ],
 "metadata": {
  "kernelspec": {
   "display_name": "Python 3",
   "language": "python",
   "name": "python3"
  },
  "language_info": {
   "codemirror_mode": {
    "name": "ipython",
    "version": 3
   },
   "file_extension": ".py",
   "mimetype": "text/x-python",
   "name": "python",
   "nbconvert_exporter": "python",
   "pygments_lexer": "ipython3",
   "version": "3.7.6"
  },
  "papermill": {
   "duration": 316.484577,
   "end_time": "2021-02-13T22:09:16.784399",
   "environment_variables": {},
   "exception": null,
   "input_path": "__notebook__.ipynb",
   "output_path": "__notebook__.ipynb",
   "parameters": {},
   "start_time": "2021-02-13T22:04:00.299822",
   "version": "2.1.0"
  }
 },
 "nbformat": 4,
 "nbformat_minor": 4
}
